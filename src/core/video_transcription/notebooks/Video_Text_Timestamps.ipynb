{
 "cells": [
  {
   "cell_type": "code",
   "execution_count": 8,
   "id": "3711481f-c964-4c67-be32-ee69a1df66dc",
   "metadata": {},
   "outputs": [],
   "source": [
    "import os\n",
    "import moviepy.editor as mp\n",
    "import whisper"
   ]
  },
  {
   "cell_type": "code",
   "execution_count": 9,
   "id": "4d372a9e-f719-4a79-bbaa-f6d569f1c20e",
   "metadata": {},
   "outputs": [],
   "source": [
    "def load_video(video_path):\n",
    "    return mp.VideoFileClip(video_path)"
   ]
  },
  {
   "cell_type": "code",
   "execution_count": 10,
   "id": "b0add646-086d-4409-850f-ebfb726dcd11",
   "metadata": {},
   "outputs": [],
   "source": [
    "def extract_audio(video, audio_path):\n",
    "    audio_file = video.audio\n",
    "    audio_file.write_audiofile(audio_path)"
   ]
  },
  {
   "cell_type": "code",
   "execution_count": 11,
   "id": "32500bf9-bd10-458a-909e-e2b50136acdf",
   "metadata": {},
   "outputs": [],
   "source": [
    "def extract_audio(video, audio_path):\n",
    "    audio_file = video.audio\n",
    "    audio_file.write_audiofile(audio_path)"
   ]
  },
  {
   "cell_type": "code",
   "execution_count": 12,
   "id": "8693dbb5-95c2-4b56-9c51-0b6fd1becd43",
   "metadata": {},
   "outputs": [],
   "source": [
    "def transcribe_audio(audio_path, model_name=\"tiny\"):\n",
    "    model = whisper.load_model(model_name)\n",
    "    result = model.transcribe(audio_path)\n",
    "    return result"
   ]
  },
  {
   "cell_type": "code",
   "execution_count": 13,
   "id": "90c7e7cd-75db-49dc-8cd9-ea85a984d79d",
   "metadata": {},
   "outputs": [],
   "source": [
    "def word_timestamps(segment):\n",
    "    words = segment['text'].strip().split()\n",
    "    num_words = len(words)\n",
    "    segment_duration = segment['end'] - segment['start']\n",
    "    avg_word_duration = segment_duration / num_words\n",
    "\n",
    "    word_timestamps = []\n",
    "    current_time = segment['start']\n",
    "\n",
    "    for word in words:\n",
    "        word_timestamps.append({\n",
    "            'word': word,\n",
    "            'start': current_time,\n",
    "            'end': current_time + avg_word_duration\n",
    "        })\n",
    "        current_time += avg_word_duration\n",
    "\n",
    "    return word_timestamps"
   ]
  },
  {
   "cell_type": "code",
   "execution_count": 14,
   "id": "0a879013-8eac-49da-8145-7586dba51992",
   "metadata": {},
   "outputs": [],
   "source": [
    "def print_word_timestamps(result):\n",
    "    if isinstance(result, dict) and 'segments' in result:\n",
    "        word_level_timestamps = []\n",
    "\n",
    "        for segment in result['segments']:\n",
    "            word_timestamps_segment = word_timestamps(segment)\n",
    "            word_level_timestamps.extend(word_timestamps_segment)\n",
    "\n",
    "        for word_info in word_level_timestamps:\n",
    "            print(f\"{word_info['word']} [{word_info['start']:.2f}s - {word_info['end']:.2f}s]\")"
   ]
  },
  {
   "cell_type": "code",
   "execution_count": 15,
   "id": "0a8a09f9-ae5c-44dd-99a1-08b6e011939b",
   "metadata": {},
   "outputs": [],
   "source": [
    "def video_to_audio(video_path):\n",
    "#Extract audio from video and return the path to the audio file.\n",
    "\n",
    "    video = load_video(video_path)\n",
    "    audio_path = os.path.splitext(video_path)[0] + '.wav'\n",
    "    extract_audio(video, audio_path)\n",
    "    return audio_path"
   ]
  },
  {
   "cell_type": "code",
   "execution_count": 16,
   "id": "25c53e68-2fad-456e-b2ea-70cb14a0e07f",
   "metadata": {},
   "outputs": [
    {
     "name": "stdout",
     "output_type": "stream",
     "text": [
      "MoviePy - Writing audio in C:\\Users\\kruta\\Downloads\\Interview Tool\\Video to Text\\Video 4\\Krutarth_Intro.wav\n"
     ]
    },
    {
     "name": "stderr",
     "output_type": "stream",
     "text": [
      "                                                                      \r"
     ]
    },
    {
     "name": "stdout",
     "output_type": "stream",
     "text": [
      "MoviePy - Done.\n",
      " Hi my name is Rudad Patil, my background is in information technology. I hold a bachelor's and a master's degree in computer science. And thereafter I started as an intern at CRA after which I was switched to a full-time position. Since then since 2020 I have been working with CRA and I've been promoted twice from junior employs to intermediate and then from an intermediate to senior employs. Then I got an opportunity to act as a team leader for around one year after which I got an opportunity to be a project leader. Since then I've been leading a lot of projects with a team that consists of nine developers. So far it has been going great and I'm really excited to see what the project lead role has to offer to me.\n",
      "Hi [0.00s - 0.48s]\n",
      "my [0.48s - 0.96s]\n",
      "name [0.96s - 1.43s]\n",
      "is [1.43s - 1.91s]\n",
      "Rudad [1.91s - 2.39s]\n",
      "Patil, [2.39s - 2.87s]\n",
      "my [2.87s - 3.35s]\n",
      "background [3.35s - 3.83s]\n",
      "is [3.83s - 4.30s]\n",
      "in [4.30s - 4.78s]\n",
      "information [4.78s - 5.26s]\n",
      "technology. [5.26s - 5.74s]\n",
      "I [5.74s - 6.22s]\n",
      "hold [6.22s - 6.70s]\n",
      "a [6.70s - 7.17s]\n",
      "bachelor's [7.17s - 7.65s]\n",
      "and [7.65s - 8.13s]\n",
      "a [8.13s - 8.61s]\n",
      "master's [8.61s - 9.09s]\n",
      "degree [9.09s - 9.57s]\n",
      "in [9.57s - 10.04s]\n",
      "computer [10.04s - 10.52s]\n",
      "science. [10.52s - 11.00s]\n",
      "And [11.00s - 11.44s]\n",
      "thereafter [11.44s - 11.89s]\n",
      "I [11.89s - 12.33s]\n",
      "started [12.33s - 12.78s]\n",
      "as [12.78s - 13.22s]\n",
      "an [13.22s - 13.67s]\n",
      "intern [13.67s - 14.11s]\n",
      "at [14.11s - 14.56s]\n",
      "CRA [14.56s - 15.00s]\n",
      "after [15.00s - 15.44s]\n",
      "which [15.44s - 15.89s]\n",
      "I [15.89s - 16.33s]\n",
      "was [16.33s - 16.78s]\n",
      "switched [16.78s - 17.22s]\n",
      "to [17.22s - 17.67s]\n",
      "a [17.67s - 18.11s]\n",
      "full-time [18.11s - 18.56s]\n",
      "position. [18.56s - 19.00s]\n",
      "Since [20.00s - 20.43s]\n",
      "then [20.43s - 20.86s]\n",
      "since [20.86s - 21.29s]\n",
      "2020 [21.29s - 21.71s]\n",
      "I [21.71s - 22.14s]\n",
      "have [22.14s - 22.57s]\n",
      "been [22.57s - 23.00s]\n",
      "working [23.00s - 23.43s]\n",
      "with [23.43s - 23.86s]\n",
      "CRA [23.86s - 24.29s]\n",
      "and [24.29s - 24.71s]\n",
      "I've [24.71s - 25.14s]\n",
      "been [25.14s - 25.57s]\n",
      "promoted [25.57s - 26.00s]\n",
      "twice [26.00s - 26.43s]\n",
      "from [26.43s - 26.86s]\n",
      "junior [26.86s - 27.29s]\n",
      "employs [27.29s - 27.71s]\n",
      "to [27.71s - 28.14s]\n",
      "intermediate [28.14s - 28.57s]\n",
      "and [28.57s - 29.00s]\n",
      "then [29.00s - 29.43s]\n",
      "from [29.43s - 29.86s]\n",
      "an [29.86s - 30.29s]\n",
      "intermediate [30.29s - 30.71s]\n",
      "to [30.71s - 31.14s]\n",
      "senior [31.14s - 31.57s]\n",
      "employs. [31.57s - 32.00s]\n",
      "Then [32.00s - 32.35s]\n",
      "I [32.35s - 32.69s]\n",
      "got [32.69s - 33.04s]\n",
      "an [33.04s - 33.38s]\n",
      "opportunity [33.38s - 33.73s]\n",
      "to [33.73s - 34.08s]\n",
      "act [34.08s - 34.42s]\n",
      "as [34.42s - 34.77s]\n",
      "a [34.77s - 35.12s]\n",
      "team [35.12s - 35.46s]\n",
      "leader [35.46s - 35.81s]\n",
      "for [35.81s - 36.15s]\n",
      "around [36.15s - 36.50s]\n",
      "one [36.50s - 36.85s]\n",
      "year [36.85s - 37.19s]\n",
      "after [37.19s - 37.54s]\n",
      "which [37.54s - 37.88s]\n",
      "I [37.88s - 38.23s]\n",
      "got [38.23s - 38.58s]\n",
      "an [38.58s - 38.92s]\n",
      "opportunity [38.92s - 39.27s]\n",
      "to [39.27s - 39.62s]\n",
      "be [39.62s - 39.96s]\n",
      "a [39.96s - 40.31s]\n",
      "project [40.31s - 40.65s]\n",
      "leader. [40.65s - 41.00s]\n",
      "Since [42.00s - 42.47s]\n",
      "then [42.47s - 42.94s]\n",
      "I've [42.94s - 43.41s]\n",
      "been [43.41s - 43.88s]\n",
      "leading [43.88s - 44.35s]\n",
      "a [44.35s - 44.82s]\n",
      "lot [44.82s - 45.29s]\n",
      "of [45.29s - 45.76s]\n",
      "projects [45.76s - 46.24s]\n",
      "with [46.24s - 46.71s]\n",
      "a [46.71s - 47.18s]\n",
      "team [47.18s - 47.65s]\n",
      "that [47.65s - 48.12s]\n",
      "consists [48.12s - 48.59s]\n",
      "of [48.59s - 49.06s]\n",
      "nine [49.06s - 49.53s]\n",
      "developers. [49.53s - 50.00s]\n",
      "So [50.00s - 50.39s]\n",
      "far [50.39s - 50.78s]\n",
      "it [50.78s - 51.17s]\n",
      "has [51.17s - 51.57s]\n",
      "been [51.57s - 51.96s]\n",
      "going [51.96s - 52.35s]\n",
      "great [52.35s - 52.74s]\n",
      "and [52.74s - 53.13s]\n",
      "I'm [53.13s - 53.52s]\n",
      "really [53.52s - 53.91s]\n",
      "excited [53.91s - 54.30s]\n",
      "to [54.30s - 54.70s]\n",
      "see [54.70s - 55.09s]\n",
      "what [55.09s - 55.48s]\n",
      "the [55.48s - 55.87s]\n",
      "project [55.87s - 56.26s]\n",
      "lead [56.26s - 56.65s]\n",
      "role [56.65s - 57.04s]\n",
      "has [57.04s - 57.43s]\n",
      "to [57.43s - 57.83s]\n",
      "offer [57.83s - 58.22s]\n",
      "to [58.22s - 58.61s]\n",
      "me. [58.61s - 59.00s]\n"
     ]
    }
   ],
   "source": [
    "def video_to_text(video_path, model_name=\"base\"):\n",
    "#Convert video to text by extracting audio and transcribing it.\n",
    "\n",
    "    audio_path = video_to_audio(video_path)\n",
    "    result = transcribe_audio(audio_path, model_name)\n",
    "    print(result['text'])\n",
    "    print_word_timestamps(result)\n",
    "\n",
    "# Path to the video file\n",
    "video_path = r\"C:\\Users\\kruta\\Downloads\\Interview Tool\\Video to Text\\Video 4\\Krutarth_Intro.mp4\"\n",
    "\n",
    "# Convert video to text\n",
    "video_to_text(video_path)"
   ]
  },
  {
   "cell_type": "code",
   "execution_count": 1,
   "id": "faa636f9-a42c-4cdb-b17c-751fbae3d311",
   "metadata": {},
   "outputs": [
    {
     "ename": "ModuleNotFoundError",
     "evalue": "No module named 'moviepy'",
     "output_type": "error",
     "traceback": [
      "\u001b[1;31m---------------------------------------------------------------------------\u001b[0m",
      "\u001b[1;31mModuleNotFoundError\u001b[0m                       Traceback (most recent call last)",
      "Cell \u001b[1;32mIn[1], line 1\u001b[0m\n\u001b[1;32m----> 1\u001b[0m \u001b[38;5;28;01mfrom\u001b[39;00m \u001b[38;5;21;01msrc\u001b[39;00m\u001b[38;5;21;01m.\u001b[39;00m\u001b[38;5;21;01mutils\u001b[39;00m\u001b[38;5;21;01m.\u001b[39;00m\u001b[38;5;21;01mvideo_to_audio\u001b[39;00m \u001b[38;5;28;01mimport\u001b[39;00m video_to_audio\n",
      "File \u001b[1;32md:\\Pooja Study\\AI Interview Tool\\Project\\MockMate\\src\\utils\\video_to_audio.py:2\u001b[0m\n\u001b[0;32m      1\u001b[0m \u001b[38;5;28;01mimport\u001b[39;00m \u001b[38;5;21;01mos\u001b[39;00m\n\u001b[1;32m----> 2\u001b[0m \u001b[38;5;28;01mimport\u001b[39;00m \u001b[38;5;21;01mmoviepy\u001b[39;00m\u001b[38;5;21;01m.\u001b[39;00m\u001b[38;5;21;01meditor\u001b[39;00m \u001b[38;5;28;01mas\u001b[39;00m \u001b[38;5;21;01mmp\u001b[39;00m\n\u001b[0;32m      4\u001b[0m \u001b[38;5;28;01mdef\u001b[39;00m \u001b[38;5;21mvideo_to_audio\u001b[39m(video_path):\n\u001b[0;32m      5\u001b[0m     \u001b[38;5;28;01mif\u001b[39;00m \u001b[38;5;129;01mnot\u001b[39;00m os\u001b[38;5;241m.\u001b[39mpath\u001b[38;5;241m.\u001b[39mexists(video_path):\n",
      "\u001b[1;31mModuleNotFoundError\u001b[0m: No module named 'moviepy'"
     ]
    }
   ],
   "source": [
    "from src.utils.video_to_audio import video_to_audio"
   ]
  }
 ],
 "metadata": {
  "kernelspec": {
   "display_name": "Python 3 (ipykernel)",
   "language": "python",
   "name": "python3"
  },
  "language_info": {
   "codemirror_mode": {
    "name": "ipython",
    "version": 3
   },
   "file_extension": ".py",
   "mimetype": "text/x-python",
   "name": "python",
   "nbconvert_exporter": "python",
   "pygments_lexer": "ipython3",
   "version": "3.11.1"
  }
 },
 "nbformat": 4,
 "nbformat_minor": 5
}
